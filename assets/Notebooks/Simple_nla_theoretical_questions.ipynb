{
  "cells": [
    {
      "cell_type": "markdown",
      "metadata": {
        "id": "QfkHrII7v2aQ"
      },
      "source": [
        "# Simple problems about eigenvalues and singular values"
      ]
    },
    {
      "cell_type": "markdown",
      "metadata": {
        "id": "gLLN7UVrv2aW"
      },
      "source": [
        "1. Find the determinant of the following matrix:\n",
        "$$\n",
        "\\begin{bmatrix}\n",
        "1 & 0 & 1\\\\\n",
        "0 & 1 & 0\n",
        "\\end{bmatrix}\n",
        "$$"
      ]
    },
    {
      "cell_type": "markdown",
      "metadata": {
        "id": "lBQzpA4tv2aW"
      },
      "source": [
        "Детерминант определен лишь для квадратной матрицы. Для матрицы $2 \\times 3$ вопрос некорректен."
      ]
    },
    {
      "cell_type": "markdown",
      "metadata": {
        "id": "1cUZexlOv2aX"
      },
      "source": [
        "2. Prove that the matrix $xy^\\top$ has rank equals to one for any vectors $x, y \\in \\mathbb{R}^n$."
      ]
    },
    {
      "cell_type": "markdown",
      "metadata": {
        "id": "ShrRLJA-v2aX"
      },
      "source": [
        "Рассмотрим столбцы такой матрицы, они таковы: $y_1 \\cdot x, y_2 \\cdot x, \\dots y_n \\cdot x$. Если все компоненты y равны 0, то матрица нулевая и её ранг очевидно 0. Если же есть компонента не равная 0, например $y_i$, то элементарными операции (добавить к j-у столбцу $\\left(- \\frac{y_j}{y_i}\\right)\\cdot x$). Таким образом матрица не изменила ранг (элементарные операции не меняют ранг), при этом все столбцы кроме одного нулевые. Если x не является нулевым вектором, то у матрицы ранг 0 иначе ранг 1."
      ]
    },
    {
      "cell_type": "markdown",
      "metadata": {
        "id": "Vhy25HUyv2aX"
      },
      "source": [
        "3. Find eigenvalues of matrix\n",
        "$$\n",
        "\\begin{bmatrix}\n",
        "1 & 0 \\\\\n",
        "0 & -1\n",
        "\\end{bmatrix}\n",
        "$$"
      ]
    },
    {
      "cell_type": "markdown",
      "metadata": {
        "id": "h9WI0Hawv2aX"
      },
      "source": [
        "$$\n",
        "\\det \\left[\\begin{bmatrix}\n",
        "1 & 0\\\\\n",
        "0 & -1\n",
        "\\end{bmatrix} - \\lambda \\cdot \\begin{bmatrix}\n",
        "1 & 0\\\\\n",
        "0 & 1\n",
        "\\end{bmatrix}\\right] = 0\n",
        "$$\n",
        "$$\n",
        "(1 - \\lambda) \\cdot (1 + \\lambda) - 0 = 0\n",
        "$$\n",
        "$$\n",
        "1 - \\lambda ^ 2 = 0\n",
        "$$\n",
        "$$\n",
        "\\lambda = \\pm 1 \\text{ -- собственные значения}\n",
        "$$"
      ]
    },
    {
      "cell_type": "code",
      "source": [
        "import numpy as np\n",
        "from numpy import linalg as LA\n",
        "eigenvalues, eigenvectors = LA.eig(np.diag((1, -1)))\n",
        "eigenvalues"
      ],
      "metadata": {
        "colab": {
          "base_uri": "https://localhost:8080/"
        },
        "id": "nAKjCiEW4gze",
        "outputId": "1c9a47cc-fbeb-428e-fd81-cbe53d9031d5"
      },
      "execution_count": 2,
      "outputs": [
        {
          "output_type": "execute_result",
          "data": {
            "text/plain": [
              "array([ 1., -1.])"
            ]
          },
          "metadata": {},
          "execution_count": 2
        }
      ]
    },
    {
      "cell_type": "markdown",
      "metadata": {
        "id": "WBwh-5GBv2aY"
      },
      "source": [
        "4. Find singular values of matrix\n",
        "$$\n",
        "\\begin{bmatrix}\n",
        "1 & 0 \\\\\n",
        "0 & -1\n",
        "\\end{bmatrix}\n",
        "$$"
      ]
    },
    {
      "cell_type": "markdown",
      "metadata": {
        "id": "zAI8YUGOv2aY"
      },
      "source": [
        "Считаем матрицу $A\\cdot A^T$\n",
        "$$\n",
        "\\begin{bmatrix}\n",
        "1 & 0 \\\\\n",
        "0 & -1\n",
        "\\end{bmatrix}\\cdot \\begin{bmatrix}\n",
        "1 & 0 \\\\\n",
        "0 & -1\n",
        "\\end{bmatrix} = \\begin{bmatrix}\n",
        "1 \\cdot 1 + 0 \\cdot 0 & 1 \\cdot 0 + 0 \\cdot (-1) \\\\\n",
        "1 \\cdot 0 + 0 \\cdot (-1) & 0 \\cdot 0 + (-1) \\cdot (-1)\n",
        "\\end{bmatrix} = \\begin{bmatrix}\n",
        "1 & 0 \\\\\n",
        "0 & 1\n",
        "\\end{bmatrix}\n",
        "$$\n",
        "Собственное значение здесь только одно: 1"
      ]
    },
    {
      "cell_type": "code",
      "source": [
        "U, S, Vh = np.linalg.svd(np.diag((1, -1)), full_matrices=True)\n",
        "set(S)"
      ],
      "metadata": {
        "colab": {
          "base_uri": "https://localhost:8080/"
        },
        "id": "Fmf1YxVQ7vl1",
        "outputId": "3bae6783-6384-4080-c5d0-e222ec3a3eb4"
      },
      "execution_count": 5,
      "outputs": [
        {
          "output_type": "execute_result",
          "data": {
            "text/plain": [
              "{1.0}"
            ]
          },
          "metadata": {},
          "execution_count": 5
        }
      ]
    },
    {
      "cell_type": "markdown",
      "metadata": {
        "id": "K0HDHiR1v2aY"
      },
      "source": []
    }
  ],
  "metadata": {
    "kernelspec": {
      "display_name": "Python 3",
      "language": "python",
      "name": "python3"
    },
    "language_info": {
      "codemirror_mode": {
        "name": "ipython",
        "version": 3
      },
      "file_extension": ".py",
      "mimetype": "text/x-python",
      "name": "python",
      "nbconvert_exporter": "python",
      "pygments_lexer": "ipython3",
      "version": "3.11.3"
    },
    "orig_nbformat": 4,
    "colab": {
      "provenance": []
    }
  },
  "nbformat": 4,
  "nbformat_minor": 0
}